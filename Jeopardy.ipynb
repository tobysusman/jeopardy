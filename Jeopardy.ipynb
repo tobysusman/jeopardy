{
 "metadata": {
  "language_info": {
   "codemirror_mode": {
    "name": "ipython",
    "version": 3
   },
   "file_extension": ".py",
   "mimetype": "text/x-python",
   "name": "python",
   "nbconvert_exporter": "python",
   "pygments_lexer": "ipython3",
   "version": "3.8.6-final"
  },
  "orig_nbformat": 2,
  "kernelspec": {
   "name": "python3",
   "display_name": "Python 3.8.6 64-bit",
   "metadata": {
    "interpreter": {
     "hash": "d144fa90d4a329fcb5c3aa323307d0eb0945b850553210817c12573cc078f651"
    }
   }
  }
 },
 "nbformat": 4,
 "nbformat_minor": 2,
 "cells": [
  {
   "cell_type": "code",
   "execution_count": 1,
   "metadata": {},
   "outputs": [],
   "source": [
    "from bs4 import BeautifulSoup\n",
    "import requests\n",
    "import pandas as pd\n",
    "import random\n",
    "import time"
   ]
  },
  {
   "cell_type": "code",
   "execution_count": 11,
   "metadata": {},
   "outputs": [
    {
     "output_type": "stream",
     "name": "stdout",
     "text": [
      "$600 Show #5352 - Tuesday, December 11, 2007\n",
      "QUESTION: ON APRIL 9, 1963 THIS BRIT WAS MADE THE FIRST HONORARY U.S. CITIZEN \n",
      "\n",
      "ANSWER: Winston Churchill\n"
     ]
    }
   ],
   "source": [
    "ids = 6872\n",
    "base_url = 'http://www.j-archive.com/showgame.php?game_id='\n",
    "random_number= random.randint(1,ids)\n",
    "url = base_url + str(random_number)\n",
    "\n",
    "response = requests.get(url)\n",
    "soup = BeautifulSoup(response.text, 'html.parser')\n",
    "\n",
    "date = soup.find('h1')\n",
    "date_and_episode = date.text\n",
    "\n",
    "\n",
    "clues = soup.find_all('td', class_ = 'clue')\n",
    "clues = clues\n",
    "df = pd.DataFrame()\n",
    "for clue in clues:\n",
    "    try:\n",
    "        specific_clue = clue.find_all('td', class_ = 'clue_text')[0].text\n",
    "        clue_value = clue.find_all('td', class_ = 'clue_value')[0].text\n",
    "        # specific_clue\n",
    "        words = clue.find_all('div')[0]\n",
    "        words = str(words)\n",
    "        answer = words.split('correct_response&quot;&gt;')[1].split('&lt;/em&gt')[0]\n",
    "        df = df.append([[specific_clue, answer, clue_value]])\n",
    "    except:\n",
    "        pass\n",
    "df = df.rename(columns = {0: 'Clue', 1: 'Answer', 2: 'Clue Value'}).reset_index(drop = True)\n",
    "df\n",
    "\n",
    "rows = len(df)-1\n",
    "random_line = random.randint(0,rows)\n",
    "question = df.loc[random_line]['Clue']\n",
    "a = df.loc[random_line]['Answer']\n",
    "clue_val = df.loc[random_line]['Clue Value']\n",
    "\n",
    "\n",
    "print(clue_val, date_and_episode)\n",
    "print('QUESTION:',question.upper(), '\\n')\n",
    "time.sleep(3)\n",
    "print('ANSWER:',a)"
   ]
  }
 ]
}